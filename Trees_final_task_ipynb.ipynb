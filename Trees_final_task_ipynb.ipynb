{
  "nbformat": 4,
  "nbformat_minor": 0,
  "metadata": {
    "colab": {
      "provenance": [],
      "include_colab_link": true
    },
    "kernelspec": {
      "name": "python3",
      "display_name": "Python 3"
    },
    "language_info": {
      "name": "python"
    }
  },
  "cells": [
    {
      "cell_type": "markdown",
      "metadata": {
        "id": "view-in-github",
        "colab_type": "text"
      },
      "source": [
        "<a href=\"https://colab.research.google.com/github/looee1q/PracticalML/blob/9-decision-tree/Trees_final_task_ipynb.ipynb\" target=\"_parent\"><img src=\"https://colab.research.google.com/assets/colab-badge.svg\" alt=\"Open In Colab\"/></a>"
      ]
    },
    {
      "cell_type": "markdown",
      "source": [
        "# Решающие деревья. Практика"
      ],
      "metadata": {
        "id": "96bhRQbYM-vU"
      }
    },
    {
      "cell_type": "markdown",
      "source": [
        "В этом задании будем решать задачу классификации клиентов телекома: для каждого клиента необходимо определить, перестанет он пользоваться услугами оператора (оттоковый клиент) в ближайшее время или нет.\n",
        "\n",
        "В ноутбуке будем использовать несколько моделей, в том числе SVM, поэтому установим библиотеку для быстрого обучения SVM."
      ],
      "metadata": {
        "id": "0-tRk6fdxmB-"
      }
    },
    {
      "cell_type": "markdown",
      "source": [
        "## Импорт библиотек и загрузка данных"
      ],
      "metadata": {
        "id": "jgQbkVOINf_e"
      }
    },
    {
      "cell_type": "code",
      "source": [
        "# убедимся, что версия python < 3.10\n",
        "!python --version"
      ],
      "metadata": {
        "colab": {
          "base_uri": "https://localhost:8080/"
        },
        "id": "nYTOUd18b4f_",
        "outputId": "bfc871de-9c59-40d1-dd22-3f7a9d4281fd"
      },
      "execution_count": 1,
      "outputs": [
        {
          "output_type": "stream",
          "name": "stdout",
          "text": [
            "Python 3.11.12\n"
          ]
        }
      ]
    },
    {
      "cell_type": "code",
      "source": [
        "%%capture\n",
        "!python -m pip install --upgrade pip\n",
        "!pip install --upgrade scikit-learn-intelex"
      ],
      "metadata": {
        "id": "FF4NTn-lb54s"
      },
      "execution_count": 2,
      "outputs": []
    },
    {
      "cell_type": "code",
      "source": [
        "from sklearnex import patch_sklearn\n",
        "patch_sklearn()"
      ],
      "metadata": {
        "colab": {
          "base_uri": "https://localhost:8080/"
        },
        "id": "mz6b0PHqb7Wq",
        "outputId": "3d59d9d8-a106-4fe4-c03c-7dc590c2b255"
      },
      "execution_count": 3,
      "outputs": [
        {
          "output_type": "stream",
          "name": "stderr",
          "text": [
            "Extension for Scikit-learn* enabled (https://github.com/uxlfoundation/scikit-learn-intelex)\n"
          ]
        }
      ]
    },
    {
      "cell_type": "code",
      "source": [
        "import sys\n",
        "import os\n",
        "import site\n",
        "import pandas as pd\n",
        "import numpy as np\n",
        "\n",
        "sys.path.append(os.path.join(os.path.dirname(site.getsitepackages()[0]), \"site-packages\"))"
      ],
      "metadata": {
        "id": "RJcBsRykTk3b"
      },
      "execution_count": 4,
      "outputs": []
    },
    {
      "cell_type": "code",
      "source": [
        "# зафиксируем константы\n",
        "RANDOM_STATE = 42"
      ],
      "metadata": {
        "id": "yZZGDLjyq6oQ"
      },
      "execution_count": 29,
      "outputs": []
    },
    {
      "cell_type": "code",
      "execution_count": 30,
      "metadata": {
        "id": "DIjF1xlpwOMd",
        "colab": {
          "base_uri": "https://localhost:8080/",
          "height": 241
        },
        "outputId": "c20ae136-dbd0-403f-e497-377222be7a16"
      },
      "outputs": [
        {
          "output_type": "execute_result",
          "data": {
            "text/plain": [
              "  State  Account length  Area code International plan Voice mail plan  \\\n",
              "0    KS             128        415                 No             Yes   \n",
              "1    OH             107        415                 No             Yes   \n",
              "2    NJ             137        415                 No              No   \n",
              "3    OH              84        408                Yes              No   \n",
              "4    OK              75        415                Yes              No   \n",
              "\n",
              "   Number vmail messages  Total day minutes  Total day calls  \\\n",
              "0                     25              265.1              110   \n",
              "1                     26              161.6              123   \n",
              "2                      0              243.4              114   \n",
              "3                      0              299.4               71   \n",
              "4                      0              166.7              113   \n",
              "\n",
              "   Total day charge  Total eve minutes  Total eve calls  Total eve charge  \\\n",
              "0             45.07              197.4               99             16.78   \n",
              "1             27.47              195.5              103             16.62   \n",
              "2             41.38              121.2              110             10.30   \n",
              "3             50.90               61.9               88              5.26   \n",
              "4             28.34              148.3              122             12.61   \n",
              "\n",
              "   Total night minutes  Total night calls  Total night charge  \\\n",
              "0                244.7                 91               11.01   \n",
              "1                254.4                103               11.45   \n",
              "2                162.6                104                7.32   \n",
              "3                196.9                 89                8.86   \n",
              "4                186.9                121                8.41   \n",
              "\n",
              "   Total intl minutes  Total intl calls  Total intl charge  \\\n",
              "0                10.0                 3               2.70   \n",
              "1                13.7                 3               3.70   \n",
              "2                12.2                 5               3.29   \n",
              "3                 6.6                 7               1.78   \n",
              "4                10.1                 3               2.73   \n",
              "\n",
              "   Customer service calls  Churn  \n",
              "0                       1  False  \n",
              "1                       1  False  \n",
              "2                       0  False  \n",
              "3                       2  False  \n",
              "4                       3  False  "
            ],
            "text/html": [
              "\n",
              "  <div id=\"df-6cedca1b-b407-4aae-ac7a-30b75937d841\" class=\"colab-df-container\">\n",
              "    <div>\n",
              "<style scoped>\n",
              "    .dataframe tbody tr th:only-of-type {\n",
              "        vertical-align: middle;\n",
              "    }\n",
              "\n",
              "    .dataframe tbody tr th {\n",
              "        vertical-align: top;\n",
              "    }\n",
              "\n",
              "    .dataframe thead th {\n",
              "        text-align: right;\n",
              "    }\n",
              "</style>\n",
              "<table border=\"1\" class=\"dataframe\">\n",
              "  <thead>\n",
              "    <tr style=\"text-align: right;\">\n",
              "      <th></th>\n",
              "      <th>State</th>\n",
              "      <th>Account length</th>\n",
              "      <th>Area code</th>\n",
              "      <th>International plan</th>\n",
              "      <th>Voice mail plan</th>\n",
              "      <th>Number vmail messages</th>\n",
              "      <th>Total day minutes</th>\n",
              "      <th>Total day calls</th>\n",
              "      <th>Total day charge</th>\n",
              "      <th>Total eve minutes</th>\n",
              "      <th>Total eve calls</th>\n",
              "      <th>Total eve charge</th>\n",
              "      <th>Total night minutes</th>\n",
              "      <th>Total night calls</th>\n",
              "      <th>Total night charge</th>\n",
              "      <th>Total intl minutes</th>\n",
              "      <th>Total intl calls</th>\n",
              "      <th>Total intl charge</th>\n",
              "      <th>Customer service calls</th>\n",
              "      <th>Churn</th>\n",
              "    </tr>\n",
              "  </thead>\n",
              "  <tbody>\n",
              "    <tr>\n",
              "      <th>0</th>\n",
              "      <td>KS</td>\n",
              "      <td>128</td>\n",
              "      <td>415</td>\n",
              "      <td>No</td>\n",
              "      <td>Yes</td>\n",
              "      <td>25</td>\n",
              "      <td>265.1</td>\n",
              "      <td>110</td>\n",
              "      <td>45.07</td>\n",
              "      <td>197.4</td>\n",
              "      <td>99</td>\n",
              "      <td>16.78</td>\n",
              "      <td>244.7</td>\n",
              "      <td>91</td>\n",
              "      <td>11.01</td>\n",
              "      <td>10.0</td>\n",
              "      <td>3</td>\n",
              "      <td>2.70</td>\n",
              "      <td>1</td>\n",
              "      <td>False</td>\n",
              "    </tr>\n",
              "    <tr>\n",
              "      <th>1</th>\n",
              "      <td>OH</td>\n",
              "      <td>107</td>\n",
              "      <td>415</td>\n",
              "      <td>No</td>\n",
              "      <td>Yes</td>\n",
              "      <td>26</td>\n",
              "      <td>161.6</td>\n",
              "      <td>123</td>\n",
              "      <td>27.47</td>\n",
              "      <td>195.5</td>\n",
              "      <td>103</td>\n",
              "      <td>16.62</td>\n",
              "      <td>254.4</td>\n",
              "      <td>103</td>\n",
              "      <td>11.45</td>\n",
              "      <td>13.7</td>\n",
              "      <td>3</td>\n",
              "      <td>3.70</td>\n",
              "      <td>1</td>\n",
              "      <td>False</td>\n",
              "    </tr>\n",
              "    <tr>\n",
              "      <th>2</th>\n",
              "      <td>NJ</td>\n",
              "      <td>137</td>\n",
              "      <td>415</td>\n",
              "      <td>No</td>\n",
              "      <td>No</td>\n",
              "      <td>0</td>\n",
              "      <td>243.4</td>\n",
              "      <td>114</td>\n",
              "      <td>41.38</td>\n",
              "      <td>121.2</td>\n",
              "      <td>110</td>\n",
              "      <td>10.30</td>\n",
              "      <td>162.6</td>\n",
              "      <td>104</td>\n",
              "      <td>7.32</td>\n",
              "      <td>12.2</td>\n",
              "      <td>5</td>\n",
              "      <td>3.29</td>\n",
              "      <td>0</td>\n",
              "      <td>False</td>\n",
              "    </tr>\n",
              "    <tr>\n",
              "      <th>3</th>\n",
              "      <td>OH</td>\n",
              "      <td>84</td>\n",
              "      <td>408</td>\n",
              "      <td>Yes</td>\n",
              "      <td>No</td>\n",
              "      <td>0</td>\n",
              "      <td>299.4</td>\n",
              "      <td>71</td>\n",
              "      <td>50.90</td>\n",
              "      <td>61.9</td>\n",
              "      <td>88</td>\n",
              "      <td>5.26</td>\n",
              "      <td>196.9</td>\n",
              "      <td>89</td>\n",
              "      <td>8.86</td>\n",
              "      <td>6.6</td>\n",
              "      <td>7</td>\n",
              "      <td>1.78</td>\n",
              "      <td>2</td>\n",
              "      <td>False</td>\n",
              "    </tr>\n",
              "    <tr>\n",
              "      <th>4</th>\n",
              "      <td>OK</td>\n",
              "      <td>75</td>\n",
              "      <td>415</td>\n",
              "      <td>Yes</td>\n",
              "      <td>No</td>\n",
              "      <td>0</td>\n",
              "      <td>166.7</td>\n",
              "      <td>113</td>\n",
              "      <td>28.34</td>\n",
              "      <td>148.3</td>\n",
              "      <td>122</td>\n",
              "      <td>12.61</td>\n",
              "      <td>186.9</td>\n",
              "      <td>121</td>\n",
              "      <td>8.41</td>\n",
              "      <td>10.1</td>\n",
              "      <td>3</td>\n",
              "      <td>2.73</td>\n",
              "      <td>3</td>\n",
              "      <td>False</td>\n",
              "    </tr>\n",
              "  </tbody>\n",
              "</table>\n",
              "</div>\n",
              "    <div class=\"colab-df-buttons\">\n",
              "\n",
              "  <div class=\"colab-df-container\">\n",
              "    <button class=\"colab-df-convert\" onclick=\"convertToInteractive('df-6cedca1b-b407-4aae-ac7a-30b75937d841')\"\n",
              "            title=\"Convert this dataframe to an interactive table.\"\n",
              "            style=\"display:none;\">\n",
              "\n",
              "  <svg xmlns=\"http://www.w3.org/2000/svg\" height=\"24px\" viewBox=\"0 -960 960 960\">\n",
              "    <path d=\"M120-120v-720h720v720H120Zm60-500h600v-160H180v160Zm220 220h160v-160H400v160Zm0 220h160v-160H400v160ZM180-400h160v-160H180v160Zm440 0h160v-160H620v160ZM180-180h160v-160H180v160Zm440 0h160v-160H620v160Z\"/>\n",
              "  </svg>\n",
              "    </button>\n",
              "\n",
              "  <style>\n",
              "    .colab-df-container {\n",
              "      display:flex;\n",
              "      gap: 12px;\n",
              "    }\n",
              "\n",
              "    .colab-df-convert {\n",
              "      background-color: #E8F0FE;\n",
              "      border: none;\n",
              "      border-radius: 50%;\n",
              "      cursor: pointer;\n",
              "      display: none;\n",
              "      fill: #1967D2;\n",
              "      height: 32px;\n",
              "      padding: 0 0 0 0;\n",
              "      width: 32px;\n",
              "    }\n",
              "\n",
              "    .colab-df-convert:hover {\n",
              "      background-color: #E2EBFA;\n",
              "      box-shadow: 0px 1px 2px rgba(60, 64, 67, 0.3), 0px 1px 3px 1px rgba(60, 64, 67, 0.15);\n",
              "      fill: #174EA6;\n",
              "    }\n",
              "\n",
              "    .colab-df-buttons div {\n",
              "      margin-bottom: 4px;\n",
              "    }\n",
              "\n",
              "    [theme=dark] .colab-df-convert {\n",
              "      background-color: #3B4455;\n",
              "      fill: #D2E3FC;\n",
              "    }\n",
              "\n",
              "    [theme=dark] .colab-df-convert:hover {\n",
              "      background-color: #434B5C;\n",
              "      box-shadow: 0px 1px 3px 1px rgba(0, 0, 0, 0.15);\n",
              "      filter: drop-shadow(0px 1px 2px rgba(0, 0, 0, 0.3));\n",
              "      fill: #FFFFFF;\n",
              "    }\n",
              "  </style>\n",
              "\n",
              "    <script>\n",
              "      const buttonEl =\n",
              "        document.querySelector('#df-6cedca1b-b407-4aae-ac7a-30b75937d841 button.colab-df-convert');\n",
              "      buttonEl.style.display =\n",
              "        google.colab.kernel.accessAllowed ? 'block' : 'none';\n",
              "\n",
              "      async function convertToInteractive(key) {\n",
              "        const element = document.querySelector('#df-6cedca1b-b407-4aae-ac7a-30b75937d841');\n",
              "        const dataTable =\n",
              "          await google.colab.kernel.invokeFunction('convertToInteractive',\n",
              "                                                    [key], {});\n",
              "        if (!dataTable) return;\n",
              "\n",
              "        const docLinkHtml = 'Like what you see? Visit the ' +\n",
              "          '<a target=\"_blank\" href=https://colab.research.google.com/notebooks/data_table.ipynb>data table notebook</a>'\n",
              "          + ' to learn more about interactive tables.';\n",
              "        element.innerHTML = '';\n",
              "        dataTable['output_type'] = 'display_data';\n",
              "        await google.colab.output.renderOutput(dataTable, element);\n",
              "        const docLink = document.createElement('div');\n",
              "        docLink.innerHTML = docLinkHtml;\n",
              "        element.appendChild(docLink);\n",
              "      }\n",
              "    </script>\n",
              "  </div>\n",
              "\n",
              "\n",
              "    <div id=\"df-bba3bbca-b391-4908-ac92-4a4f4e6eecd0\">\n",
              "      <button class=\"colab-df-quickchart\" onclick=\"quickchart('df-bba3bbca-b391-4908-ac92-4a4f4e6eecd0')\"\n",
              "                title=\"Suggest charts\"\n",
              "                style=\"display:none;\">\n",
              "\n",
              "<svg xmlns=\"http://www.w3.org/2000/svg\" height=\"24px\"viewBox=\"0 0 24 24\"\n",
              "     width=\"24px\">\n",
              "    <g>\n",
              "        <path d=\"M19 3H5c-1.1 0-2 .9-2 2v14c0 1.1.9 2 2 2h14c1.1 0 2-.9 2-2V5c0-1.1-.9-2-2-2zM9 17H7v-7h2v7zm4 0h-2V7h2v10zm4 0h-2v-4h2v4z\"/>\n",
              "    </g>\n",
              "</svg>\n",
              "      </button>\n",
              "\n",
              "<style>\n",
              "  .colab-df-quickchart {\n",
              "      --bg-color: #E8F0FE;\n",
              "      --fill-color: #1967D2;\n",
              "      --hover-bg-color: #E2EBFA;\n",
              "      --hover-fill-color: #174EA6;\n",
              "      --disabled-fill-color: #AAA;\n",
              "      --disabled-bg-color: #DDD;\n",
              "  }\n",
              "\n",
              "  [theme=dark] .colab-df-quickchart {\n",
              "      --bg-color: #3B4455;\n",
              "      --fill-color: #D2E3FC;\n",
              "      --hover-bg-color: #434B5C;\n",
              "      --hover-fill-color: #FFFFFF;\n",
              "      --disabled-bg-color: #3B4455;\n",
              "      --disabled-fill-color: #666;\n",
              "  }\n",
              "\n",
              "  .colab-df-quickchart {\n",
              "    background-color: var(--bg-color);\n",
              "    border: none;\n",
              "    border-radius: 50%;\n",
              "    cursor: pointer;\n",
              "    display: none;\n",
              "    fill: var(--fill-color);\n",
              "    height: 32px;\n",
              "    padding: 0;\n",
              "    width: 32px;\n",
              "  }\n",
              "\n",
              "  .colab-df-quickchart:hover {\n",
              "    background-color: var(--hover-bg-color);\n",
              "    box-shadow: 0 1px 2px rgba(60, 64, 67, 0.3), 0 1px 3px 1px rgba(60, 64, 67, 0.15);\n",
              "    fill: var(--button-hover-fill-color);\n",
              "  }\n",
              "\n",
              "  .colab-df-quickchart-complete:disabled,\n",
              "  .colab-df-quickchart-complete:disabled:hover {\n",
              "    background-color: var(--disabled-bg-color);\n",
              "    fill: var(--disabled-fill-color);\n",
              "    box-shadow: none;\n",
              "  }\n",
              "\n",
              "  .colab-df-spinner {\n",
              "    border: 2px solid var(--fill-color);\n",
              "    border-color: transparent;\n",
              "    border-bottom-color: var(--fill-color);\n",
              "    animation:\n",
              "      spin 1s steps(1) infinite;\n",
              "  }\n",
              "\n",
              "  @keyframes spin {\n",
              "    0% {\n",
              "      border-color: transparent;\n",
              "      border-bottom-color: var(--fill-color);\n",
              "      border-left-color: var(--fill-color);\n",
              "    }\n",
              "    20% {\n",
              "      border-color: transparent;\n",
              "      border-left-color: var(--fill-color);\n",
              "      border-top-color: var(--fill-color);\n",
              "    }\n",
              "    30% {\n",
              "      border-color: transparent;\n",
              "      border-left-color: var(--fill-color);\n",
              "      border-top-color: var(--fill-color);\n",
              "      border-right-color: var(--fill-color);\n",
              "    }\n",
              "    40% {\n",
              "      border-color: transparent;\n",
              "      border-right-color: var(--fill-color);\n",
              "      border-top-color: var(--fill-color);\n",
              "    }\n",
              "    60% {\n",
              "      border-color: transparent;\n",
              "      border-right-color: var(--fill-color);\n",
              "    }\n",
              "    80% {\n",
              "      border-color: transparent;\n",
              "      border-right-color: var(--fill-color);\n",
              "      border-bottom-color: var(--fill-color);\n",
              "    }\n",
              "    90% {\n",
              "      border-color: transparent;\n",
              "      border-bottom-color: var(--fill-color);\n",
              "    }\n",
              "  }\n",
              "</style>\n",
              "\n",
              "      <script>\n",
              "        async function quickchart(key) {\n",
              "          const quickchartButtonEl =\n",
              "            document.querySelector('#' + key + ' button');\n",
              "          quickchartButtonEl.disabled = true;  // To prevent multiple clicks.\n",
              "          quickchartButtonEl.classList.add('colab-df-spinner');\n",
              "          try {\n",
              "            const charts = await google.colab.kernel.invokeFunction(\n",
              "                'suggestCharts', [key], {});\n",
              "          } catch (error) {\n",
              "            console.error('Error during call to suggestCharts:', error);\n",
              "          }\n",
              "          quickchartButtonEl.classList.remove('colab-df-spinner');\n",
              "          quickchartButtonEl.classList.add('colab-df-quickchart-complete');\n",
              "        }\n",
              "        (() => {\n",
              "          let quickchartButtonEl =\n",
              "            document.querySelector('#df-bba3bbca-b391-4908-ac92-4a4f4e6eecd0 button');\n",
              "          quickchartButtonEl.style.display =\n",
              "            google.colab.kernel.accessAllowed ? 'block' : 'none';\n",
              "        })();\n",
              "      </script>\n",
              "    </div>\n",
              "    </div>\n",
              "  </div>\n"
            ],
            "application/vnd.google.colaboratory.intrinsic+json": {
              "type": "dataframe",
              "variable_name": "df",
              "summary": "{\n  \"name\": \"df\",\n  \"rows\": 3333,\n  \"fields\": [\n    {\n      \"column\": \"State\",\n      \"properties\": {\n        \"dtype\": \"category\",\n        \"num_unique_values\": 51,\n        \"samples\": [\n          \"DC\",\n          \"WA\",\n          \"MS\"\n        ],\n        \"semantic_type\": \"\",\n        \"description\": \"\"\n      }\n    },\n    {\n      \"column\": \"Account length\",\n      \"properties\": {\n        \"dtype\": \"number\",\n        \"std\": 39,\n        \"min\": 1,\n        \"max\": 243,\n        \"num_unique_values\": 212,\n        \"samples\": [\n          172,\n          189,\n          44\n        ],\n        \"semantic_type\": \"\",\n        \"description\": \"\"\n      }\n    },\n    {\n      \"column\": \"Area code\",\n      \"properties\": {\n        \"dtype\": \"number\",\n        \"std\": 42,\n        \"min\": 408,\n        \"max\": 510,\n        \"num_unique_values\": 3,\n        \"samples\": [\n          415,\n          408,\n          510\n        ],\n        \"semantic_type\": \"\",\n        \"description\": \"\"\n      }\n    },\n    {\n      \"column\": \"International plan\",\n      \"properties\": {\n        \"dtype\": \"category\",\n        \"num_unique_values\": 2,\n        \"samples\": [\n          \"Yes\",\n          \"No\"\n        ],\n        \"semantic_type\": \"\",\n        \"description\": \"\"\n      }\n    },\n    {\n      \"column\": \"Voice mail plan\",\n      \"properties\": {\n        \"dtype\": \"category\",\n        \"num_unique_values\": 2,\n        \"samples\": [\n          \"No\",\n          \"Yes\"\n        ],\n        \"semantic_type\": \"\",\n        \"description\": \"\"\n      }\n    },\n    {\n      \"column\": \"Number vmail messages\",\n      \"properties\": {\n        \"dtype\": \"number\",\n        \"std\": 13,\n        \"min\": 0,\n        \"max\": 51,\n        \"num_unique_values\": 46,\n        \"samples\": [\n          44,\n          48\n        ],\n        \"semantic_type\": \"\",\n        \"description\": \"\"\n      }\n    },\n    {\n      \"column\": \"Total day minutes\",\n      \"properties\": {\n        \"dtype\": \"number\",\n        \"std\": 54.46738920237142,\n        \"min\": 0.0,\n        \"max\": 350.8,\n        \"num_unique_values\": 1667,\n        \"samples\": [\n          87.6,\n          115.7\n        ],\n        \"semantic_type\": \"\",\n        \"description\": \"\"\n      }\n    },\n    {\n      \"column\": \"Total day calls\",\n      \"properties\": {\n        \"dtype\": \"number\",\n        \"std\": 20,\n        \"min\": 0,\n        \"max\": 165,\n        \"num_unique_values\": 119,\n        \"samples\": [\n          125,\n          59\n        ],\n        \"semantic_type\": \"\",\n        \"description\": \"\"\n      }\n    },\n    {\n      \"column\": \"Total day charge\",\n      \"properties\": {\n        \"dtype\": \"number\",\n        \"std\": 9.259434553930507,\n        \"min\": 0.0,\n        \"max\": 59.64,\n        \"num_unique_values\": 1667,\n        \"samples\": [\n          14.89,\n          19.67\n        ],\n        \"semantic_type\": \"\",\n        \"description\": \"\"\n      }\n    },\n    {\n      \"column\": \"Total eve minutes\",\n      \"properties\": {\n        \"dtype\": \"number\",\n        \"std\": 50.71384442581193,\n        \"min\": 0.0,\n        \"max\": 363.7,\n        \"num_unique_values\": 1611,\n        \"samples\": [\n          215.1,\n          219.1\n        ],\n        \"semantic_type\": \"\",\n        \"description\": \"\"\n      }\n    },\n    {\n      \"column\": \"Total eve calls\",\n      \"properties\": {\n        \"dtype\": \"number\",\n        \"std\": 19,\n        \"min\": 0,\n        \"max\": 170,\n        \"num_unique_values\": 123,\n        \"samples\": [\n          93,\n          142\n        ],\n        \"semantic_type\": \"\",\n        \"description\": \"\"\n      }\n    },\n    {\n      \"column\": \"Total eve charge\",\n      \"properties\": {\n        \"dtype\": \"number\",\n        \"std\": 4.310667643110339,\n        \"min\": 0.0,\n        \"max\": 30.91,\n        \"num_unique_values\": 1440,\n        \"samples\": [\n          24.85,\n          14.19\n        ],\n        \"semantic_type\": \"\",\n        \"description\": \"\"\n      }\n    },\n    {\n      \"column\": \"Total night minutes\",\n      \"properties\": {\n        \"dtype\": \"number\",\n        \"std\": 50.5738470136583,\n        \"min\": 23.2,\n        \"max\": 395.0,\n        \"num_unique_values\": 1591,\n        \"samples\": [\n          311.1,\n          179.1\n        ],\n        \"semantic_type\": \"\",\n        \"description\": \"\"\n      }\n    },\n    {\n      \"column\": \"Total night calls\",\n      \"properties\": {\n        \"dtype\": \"number\",\n        \"std\": 19,\n        \"min\": 33,\n        \"max\": 175,\n        \"num_unique_values\": 120,\n        \"samples\": [\n          60,\n          73\n        ],\n        \"semantic_type\": \"\",\n        \"description\": \"\"\n      }\n    },\n    {\n      \"column\": \"Total night charge\",\n      \"properties\": {\n        \"dtype\": \"number\",\n        \"std\": 2.2758728376600317,\n        \"min\": 1.04,\n        \"max\": 17.77,\n        \"num_unique_values\": 933,\n        \"samples\": [\n          6.2,\n          6.86\n        ],\n        \"semantic_type\": \"\",\n        \"description\": \"\"\n      }\n    },\n    {\n      \"column\": \"Total intl minutes\",\n      \"properties\": {\n        \"dtype\": \"number\",\n        \"std\": 2.7918395484084204,\n        \"min\": 0.0,\n        \"max\": 20.0,\n        \"num_unique_values\": 162,\n        \"samples\": [\n          16.6,\n          14.8\n        ],\n        \"semantic_type\": \"\",\n        \"description\": \"\"\n      }\n    },\n    {\n      \"column\": \"Total intl calls\",\n      \"properties\": {\n        \"dtype\": \"number\",\n        \"std\": 2,\n        \"min\": 0,\n        \"max\": 20,\n        \"num_unique_values\": 21,\n        \"samples\": [\n          3,\n          14\n        ],\n        \"semantic_type\": \"\",\n        \"description\": \"\"\n      }\n    },\n    {\n      \"column\": \"Total intl charge\",\n      \"properties\": {\n        \"dtype\": \"number\",\n        \"std\": 0.7537726126630453,\n        \"min\": 0.0,\n        \"max\": 5.4,\n        \"num_unique_values\": 162,\n        \"samples\": [\n          4.48,\n          4.0\n        ],\n        \"semantic_type\": \"\",\n        \"description\": \"\"\n      }\n    },\n    {\n      \"column\": \"Customer service calls\",\n      \"properties\": {\n        \"dtype\": \"number\",\n        \"std\": 1,\n        \"min\": 0,\n        \"max\": 9,\n        \"num_unique_values\": 10,\n        \"samples\": [\n          6,\n          0\n        ],\n        \"semantic_type\": \"\",\n        \"description\": \"\"\n      }\n    },\n    {\n      \"column\": \"Churn\",\n      \"properties\": {\n        \"dtype\": \"boolean\",\n        \"num_unique_values\": 2,\n        \"samples\": [\n          true,\n          false\n        ],\n        \"semantic_type\": \"\",\n        \"description\": \"\"\n      }\n    }\n  ]\n}"
            }
          },
          "metadata": {},
          "execution_count": 30
        }
      ],
      "source": [
        "df = pd.read_csv(\"https://raw.githubusercontent.com/evgpat/edu_stepik_practical_ml/main/datasets/telecom_churn.csv\")\n",
        "df.head()"
      ]
    },
    {
      "cell_type": "markdown",
      "source": [
        "## Практика"
      ],
      "metadata": {
        "id": "Od9PZQCENJ4I"
      }
    },
    {
      "cell_type": "code",
      "source": [
        "np.random.seed(RANDOM_STATE)"
      ],
      "metadata": {
        "id": "Jz_uDKBvrM4P"
      },
      "execution_count": 31,
      "outputs": []
    },
    {
      "cell_type": "markdown",
      "source": [
        "Сделайте первичную обработку данных:\n",
        "\n",
        "1) Выбросите колонку State\n",
        "\n",
        "2) Колонки International plan и Voice mail plan закодируйте следующим образом: \"Yes\" замените на 1, а \"No\" на 0.\n",
        "\n",
        "3) Переведите целевую переменную (Churn) в числа: True в 1, а False в 0."
      ],
      "metadata": {
        "id": "MT5L6lWZyDkE"
      }
    },
    {
      "cell_type": "code",
      "source": [
        "df.drop(columns=['State'], inplace=True)\n",
        "df[['International plan', 'Voice mail plan']] = df[['International plan', 'Voice mail plan']].replace({\"Yes\" : 1, \"No\" : 0})\n",
        "df[\"Churn\"] = df[\"Churn\"].map({True : 1, False : 0})"
      ],
      "metadata": {
        "id": "7U6J16EVx0iy",
        "outputId": "b1879a66-5f17-4bbb-d6ba-307efcb4b7d2",
        "colab": {
          "base_uri": "https://localhost:8080/"
        }
      },
      "execution_count": 32,
      "outputs": [
        {
          "output_type": "stream",
          "name": "stderr",
          "text": [
            "<ipython-input-32-e3214dbfc14a>:2: FutureWarning: Downcasting behavior in `replace` is deprecated and will be removed in a future version. To retain the old behavior, explicitly call `result.infer_objects(copy=False)`. To opt-in to the future behavior, set `pd.set_option('future.no_silent_downcasting', True)`\n",
            "  df[['International plan', 'Voice mail plan']] = df[['International plan', 'Voice mail plan']].replace({\"Yes\" : 1, \"No\" : 0})\n"
          ]
        }
      ]
    },
    {
      "cell_type": "code",
      "source": [
        "df.shape"
      ],
      "metadata": {
        "id": "kpcupfJjLnkD",
        "outputId": "7b00848f-e865-47bb-a116-b86c44e3b4e4",
        "colab": {
          "base_uri": "https://localhost:8080/"
        }
      },
      "execution_count": 33,
      "outputs": [
        {
          "output_type": "execute_result",
          "data": {
            "text/plain": [
              "(3333, 19)"
            ]
          },
          "metadata": {},
          "execution_count": 33
        }
      ]
    },
    {
      "cell_type": "markdown",
      "source": [
        "### Вопрос\n",
        "\n",
        "Чему равна сумма значений в закодированном столбце International plan?"
      ],
      "metadata": {
        "id": "Oh-R73plYGUB"
      }
    },
    {
      "cell_type": "code",
      "source": [
        "df['International plan'].sum()"
      ],
      "metadata": {
        "id": "yBFrRvp6YOWk",
        "outputId": "0635fabd-37fd-42ad-cbc7-717ec24ab834",
        "colab": {
          "base_uri": "https://localhost:8080/"
        }
      },
      "execution_count": 34,
      "outputs": [
        {
          "output_type": "execute_result",
          "data": {
            "text/plain": [
              "np.int64(323)"
            ]
          },
          "metadata": {},
          "execution_count": 34
        }
      ]
    },
    {
      "cell_type": "markdown",
      "source": [
        "Выведите на экран первые строки измененной таблицы, чтобы проверить, что все преобразования сработали."
      ],
      "metadata": {
        "id": "N2hAu7tmy0Ps"
      }
    },
    {
      "cell_type": "code",
      "source": [
        "df.head()"
      ],
      "metadata": {
        "id": "lG9oOv0uydW8",
        "outputId": "9b3e5789-19bd-40c9-ce03-52a6c42eea4b",
        "colab": {
          "base_uri": "https://localhost:8080/",
          "height": 241
        }
      },
      "execution_count": 35,
      "outputs": [
        {
          "output_type": "execute_result",
          "data": {
            "text/plain": [
              "   Account length  Area code  International plan  Voice mail plan  \\\n",
              "0             128        415                   0                1   \n",
              "1             107        415                   0                1   \n",
              "2             137        415                   0                0   \n",
              "3              84        408                   1                0   \n",
              "4              75        415                   1                0   \n",
              "\n",
              "   Number vmail messages  Total day minutes  Total day calls  \\\n",
              "0                     25              265.1              110   \n",
              "1                     26              161.6              123   \n",
              "2                      0              243.4              114   \n",
              "3                      0              299.4               71   \n",
              "4                      0              166.7              113   \n",
              "\n",
              "   Total day charge  Total eve minutes  Total eve calls  Total eve charge  \\\n",
              "0             45.07              197.4               99             16.78   \n",
              "1             27.47              195.5              103             16.62   \n",
              "2             41.38              121.2              110             10.30   \n",
              "3             50.90               61.9               88              5.26   \n",
              "4             28.34              148.3              122             12.61   \n",
              "\n",
              "   Total night minutes  Total night calls  Total night charge  \\\n",
              "0                244.7                 91               11.01   \n",
              "1                254.4                103               11.45   \n",
              "2                162.6                104                7.32   \n",
              "3                196.9                 89                8.86   \n",
              "4                186.9                121                8.41   \n",
              "\n",
              "   Total intl minutes  Total intl calls  Total intl charge  \\\n",
              "0                10.0                 3               2.70   \n",
              "1                13.7                 3               3.70   \n",
              "2                12.2                 5               3.29   \n",
              "3                 6.6                 7               1.78   \n",
              "4                10.1                 3               2.73   \n",
              "\n",
              "   Customer service calls  Churn  \n",
              "0                       1      0  \n",
              "1                       1      0  \n",
              "2                       0      0  \n",
              "3                       2      0  \n",
              "4                       3      0  "
            ],
            "text/html": [
              "\n",
              "  <div id=\"df-1a65fa4e-843c-4a89-9612-dbab110488ef\" class=\"colab-df-container\">\n",
              "    <div>\n",
              "<style scoped>\n",
              "    .dataframe tbody tr th:only-of-type {\n",
              "        vertical-align: middle;\n",
              "    }\n",
              "\n",
              "    .dataframe tbody tr th {\n",
              "        vertical-align: top;\n",
              "    }\n",
              "\n",
              "    .dataframe thead th {\n",
              "        text-align: right;\n",
              "    }\n",
              "</style>\n",
              "<table border=\"1\" class=\"dataframe\">\n",
              "  <thead>\n",
              "    <tr style=\"text-align: right;\">\n",
              "      <th></th>\n",
              "      <th>Account length</th>\n",
              "      <th>Area code</th>\n",
              "      <th>International plan</th>\n",
              "      <th>Voice mail plan</th>\n",
              "      <th>Number vmail messages</th>\n",
              "      <th>Total day minutes</th>\n",
              "      <th>Total day calls</th>\n",
              "      <th>Total day charge</th>\n",
              "      <th>Total eve minutes</th>\n",
              "      <th>Total eve calls</th>\n",
              "      <th>Total eve charge</th>\n",
              "      <th>Total night minutes</th>\n",
              "      <th>Total night calls</th>\n",
              "      <th>Total night charge</th>\n",
              "      <th>Total intl minutes</th>\n",
              "      <th>Total intl calls</th>\n",
              "      <th>Total intl charge</th>\n",
              "      <th>Customer service calls</th>\n",
              "      <th>Churn</th>\n",
              "    </tr>\n",
              "  </thead>\n",
              "  <tbody>\n",
              "    <tr>\n",
              "      <th>0</th>\n",
              "      <td>128</td>\n",
              "      <td>415</td>\n",
              "      <td>0</td>\n",
              "      <td>1</td>\n",
              "      <td>25</td>\n",
              "      <td>265.1</td>\n",
              "      <td>110</td>\n",
              "      <td>45.07</td>\n",
              "      <td>197.4</td>\n",
              "      <td>99</td>\n",
              "      <td>16.78</td>\n",
              "      <td>244.7</td>\n",
              "      <td>91</td>\n",
              "      <td>11.01</td>\n",
              "      <td>10.0</td>\n",
              "      <td>3</td>\n",
              "      <td>2.70</td>\n",
              "      <td>1</td>\n",
              "      <td>0</td>\n",
              "    </tr>\n",
              "    <tr>\n",
              "      <th>1</th>\n",
              "      <td>107</td>\n",
              "      <td>415</td>\n",
              "      <td>0</td>\n",
              "      <td>1</td>\n",
              "      <td>26</td>\n",
              "      <td>161.6</td>\n",
              "      <td>123</td>\n",
              "      <td>27.47</td>\n",
              "      <td>195.5</td>\n",
              "      <td>103</td>\n",
              "      <td>16.62</td>\n",
              "      <td>254.4</td>\n",
              "      <td>103</td>\n",
              "      <td>11.45</td>\n",
              "      <td>13.7</td>\n",
              "      <td>3</td>\n",
              "      <td>3.70</td>\n",
              "      <td>1</td>\n",
              "      <td>0</td>\n",
              "    </tr>\n",
              "    <tr>\n",
              "      <th>2</th>\n",
              "      <td>137</td>\n",
              "      <td>415</td>\n",
              "      <td>0</td>\n",
              "      <td>0</td>\n",
              "      <td>0</td>\n",
              "      <td>243.4</td>\n",
              "      <td>114</td>\n",
              "      <td>41.38</td>\n",
              "      <td>121.2</td>\n",
              "      <td>110</td>\n",
              "      <td>10.30</td>\n",
              "      <td>162.6</td>\n",
              "      <td>104</td>\n",
              "      <td>7.32</td>\n",
              "      <td>12.2</td>\n",
              "      <td>5</td>\n",
              "      <td>3.29</td>\n",
              "      <td>0</td>\n",
              "      <td>0</td>\n",
              "    </tr>\n",
              "    <tr>\n",
              "      <th>3</th>\n",
              "      <td>84</td>\n",
              "      <td>408</td>\n",
              "      <td>1</td>\n",
              "      <td>0</td>\n",
              "      <td>0</td>\n",
              "      <td>299.4</td>\n",
              "      <td>71</td>\n",
              "      <td>50.90</td>\n",
              "      <td>61.9</td>\n",
              "      <td>88</td>\n",
              "      <td>5.26</td>\n",
              "      <td>196.9</td>\n",
              "      <td>89</td>\n",
              "      <td>8.86</td>\n",
              "      <td>6.6</td>\n",
              "      <td>7</td>\n",
              "      <td>1.78</td>\n",
              "      <td>2</td>\n",
              "      <td>0</td>\n",
              "    </tr>\n",
              "    <tr>\n",
              "      <th>4</th>\n",
              "      <td>75</td>\n",
              "      <td>415</td>\n",
              "      <td>1</td>\n",
              "      <td>0</td>\n",
              "      <td>0</td>\n",
              "      <td>166.7</td>\n",
              "      <td>113</td>\n",
              "      <td>28.34</td>\n",
              "      <td>148.3</td>\n",
              "      <td>122</td>\n",
              "      <td>12.61</td>\n",
              "      <td>186.9</td>\n",
              "      <td>121</td>\n",
              "      <td>8.41</td>\n",
              "      <td>10.1</td>\n",
              "      <td>3</td>\n",
              "      <td>2.73</td>\n",
              "      <td>3</td>\n",
              "      <td>0</td>\n",
              "    </tr>\n",
              "  </tbody>\n",
              "</table>\n",
              "</div>\n",
              "    <div class=\"colab-df-buttons\">\n",
              "\n",
              "  <div class=\"colab-df-container\">\n",
              "    <button class=\"colab-df-convert\" onclick=\"convertToInteractive('df-1a65fa4e-843c-4a89-9612-dbab110488ef')\"\n",
              "            title=\"Convert this dataframe to an interactive table.\"\n",
              "            style=\"display:none;\">\n",
              "\n",
              "  <svg xmlns=\"http://www.w3.org/2000/svg\" height=\"24px\" viewBox=\"0 -960 960 960\">\n",
              "    <path d=\"M120-120v-720h720v720H120Zm60-500h600v-160H180v160Zm220 220h160v-160H400v160Zm0 220h160v-160H400v160ZM180-400h160v-160H180v160Zm440 0h160v-160H620v160ZM180-180h160v-160H180v160Zm440 0h160v-160H620v160Z\"/>\n",
              "  </svg>\n",
              "    </button>\n",
              "\n",
              "  <style>\n",
              "    .colab-df-container {\n",
              "      display:flex;\n",
              "      gap: 12px;\n",
              "    }\n",
              "\n",
              "    .colab-df-convert {\n",
              "      background-color: #E8F0FE;\n",
              "      border: none;\n",
              "      border-radius: 50%;\n",
              "      cursor: pointer;\n",
              "      display: none;\n",
              "      fill: #1967D2;\n",
              "      height: 32px;\n",
              "      padding: 0 0 0 0;\n",
              "      width: 32px;\n",
              "    }\n",
              "\n",
              "    .colab-df-convert:hover {\n",
              "      background-color: #E2EBFA;\n",
              "      box-shadow: 0px 1px 2px rgba(60, 64, 67, 0.3), 0px 1px 3px 1px rgba(60, 64, 67, 0.15);\n",
              "      fill: #174EA6;\n",
              "    }\n",
              "\n",
              "    .colab-df-buttons div {\n",
              "      margin-bottom: 4px;\n",
              "    }\n",
              "\n",
              "    [theme=dark] .colab-df-convert {\n",
              "      background-color: #3B4455;\n",
              "      fill: #D2E3FC;\n",
              "    }\n",
              "\n",
              "    [theme=dark] .colab-df-convert:hover {\n",
              "      background-color: #434B5C;\n",
              "      box-shadow: 0px 1px 3px 1px rgba(0, 0, 0, 0.15);\n",
              "      filter: drop-shadow(0px 1px 2px rgba(0, 0, 0, 0.3));\n",
              "      fill: #FFFFFF;\n",
              "    }\n",
              "  </style>\n",
              "\n",
              "    <script>\n",
              "      const buttonEl =\n",
              "        document.querySelector('#df-1a65fa4e-843c-4a89-9612-dbab110488ef button.colab-df-convert');\n",
              "      buttonEl.style.display =\n",
              "        google.colab.kernel.accessAllowed ? 'block' : 'none';\n",
              "\n",
              "      async function convertToInteractive(key) {\n",
              "        const element = document.querySelector('#df-1a65fa4e-843c-4a89-9612-dbab110488ef');\n",
              "        const dataTable =\n",
              "          await google.colab.kernel.invokeFunction('convertToInteractive',\n",
              "                                                    [key], {});\n",
              "        if (!dataTable) return;\n",
              "\n",
              "        const docLinkHtml = 'Like what you see? Visit the ' +\n",
              "          '<a target=\"_blank\" href=https://colab.research.google.com/notebooks/data_table.ipynb>data table notebook</a>'\n",
              "          + ' to learn more about interactive tables.';\n",
              "        element.innerHTML = '';\n",
              "        dataTable['output_type'] = 'display_data';\n",
              "        await google.colab.output.renderOutput(dataTable, element);\n",
              "        const docLink = document.createElement('div');\n",
              "        docLink.innerHTML = docLinkHtml;\n",
              "        element.appendChild(docLink);\n",
              "      }\n",
              "    </script>\n",
              "  </div>\n",
              "\n",
              "\n",
              "    <div id=\"df-56d6cdf3-3a78-4b56-ac84-d9089fc71722\">\n",
              "      <button class=\"colab-df-quickchart\" onclick=\"quickchart('df-56d6cdf3-3a78-4b56-ac84-d9089fc71722')\"\n",
              "                title=\"Suggest charts\"\n",
              "                style=\"display:none;\">\n",
              "\n",
              "<svg xmlns=\"http://www.w3.org/2000/svg\" height=\"24px\"viewBox=\"0 0 24 24\"\n",
              "     width=\"24px\">\n",
              "    <g>\n",
              "        <path d=\"M19 3H5c-1.1 0-2 .9-2 2v14c0 1.1.9 2 2 2h14c1.1 0 2-.9 2-2V5c0-1.1-.9-2-2-2zM9 17H7v-7h2v7zm4 0h-2V7h2v10zm4 0h-2v-4h2v4z\"/>\n",
              "    </g>\n",
              "</svg>\n",
              "      </button>\n",
              "\n",
              "<style>\n",
              "  .colab-df-quickchart {\n",
              "      --bg-color: #E8F0FE;\n",
              "      --fill-color: #1967D2;\n",
              "      --hover-bg-color: #E2EBFA;\n",
              "      --hover-fill-color: #174EA6;\n",
              "      --disabled-fill-color: #AAA;\n",
              "      --disabled-bg-color: #DDD;\n",
              "  }\n",
              "\n",
              "  [theme=dark] .colab-df-quickchart {\n",
              "      --bg-color: #3B4455;\n",
              "      --fill-color: #D2E3FC;\n",
              "      --hover-bg-color: #434B5C;\n",
              "      --hover-fill-color: #FFFFFF;\n",
              "      --disabled-bg-color: #3B4455;\n",
              "      --disabled-fill-color: #666;\n",
              "  }\n",
              "\n",
              "  .colab-df-quickchart {\n",
              "    background-color: var(--bg-color);\n",
              "    border: none;\n",
              "    border-radius: 50%;\n",
              "    cursor: pointer;\n",
              "    display: none;\n",
              "    fill: var(--fill-color);\n",
              "    height: 32px;\n",
              "    padding: 0;\n",
              "    width: 32px;\n",
              "  }\n",
              "\n",
              "  .colab-df-quickchart:hover {\n",
              "    background-color: var(--hover-bg-color);\n",
              "    box-shadow: 0 1px 2px rgba(60, 64, 67, 0.3), 0 1px 3px 1px rgba(60, 64, 67, 0.15);\n",
              "    fill: var(--button-hover-fill-color);\n",
              "  }\n",
              "\n",
              "  .colab-df-quickchart-complete:disabled,\n",
              "  .colab-df-quickchart-complete:disabled:hover {\n",
              "    background-color: var(--disabled-bg-color);\n",
              "    fill: var(--disabled-fill-color);\n",
              "    box-shadow: none;\n",
              "  }\n",
              "\n",
              "  .colab-df-spinner {\n",
              "    border: 2px solid var(--fill-color);\n",
              "    border-color: transparent;\n",
              "    border-bottom-color: var(--fill-color);\n",
              "    animation:\n",
              "      spin 1s steps(1) infinite;\n",
              "  }\n",
              "\n",
              "  @keyframes spin {\n",
              "    0% {\n",
              "      border-color: transparent;\n",
              "      border-bottom-color: var(--fill-color);\n",
              "      border-left-color: var(--fill-color);\n",
              "    }\n",
              "    20% {\n",
              "      border-color: transparent;\n",
              "      border-left-color: var(--fill-color);\n",
              "      border-top-color: var(--fill-color);\n",
              "    }\n",
              "    30% {\n",
              "      border-color: transparent;\n",
              "      border-left-color: var(--fill-color);\n",
              "      border-top-color: var(--fill-color);\n",
              "      border-right-color: var(--fill-color);\n",
              "    }\n",
              "    40% {\n",
              "      border-color: transparent;\n",
              "      border-right-color: var(--fill-color);\n",
              "      border-top-color: var(--fill-color);\n",
              "    }\n",
              "    60% {\n",
              "      border-color: transparent;\n",
              "      border-right-color: var(--fill-color);\n",
              "    }\n",
              "    80% {\n",
              "      border-color: transparent;\n",
              "      border-right-color: var(--fill-color);\n",
              "      border-bottom-color: var(--fill-color);\n",
              "    }\n",
              "    90% {\n",
              "      border-color: transparent;\n",
              "      border-bottom-color: var(--fill-color);\n",
              "    }\n",
              "  }\n",
              "</style>\n",
              "\n",
              "      <script>\n",
              "        async function quickchart(key) {\n",
              "          const quickchartButtonEl =\n",
              "            document.querySelector('#' + key + ' button');\n",
              "          quickchartButtonEl.disabled = true;  // To prevent multiple clicks.\n",
              "          quickchartButtonEl.classList.add('colab-df-spinner');\n",
              "          try {\n",
              "            const charts = await google.colab.kernel.invokeFunction(\n",
              "                'suggestCharts', [key], {});\n",
              "          } catch (error) {\n",
              "            console.error('Error during call to suggestCharts:', error);\n",
              "          }\n",
              "          quickchartButtonEl.classList.remove('colab-df-spinner');\n",
              "          quickchartButtonEl.classList.add('colab-df-quickchart-complete');\n",
              "        }\n",
              "        (() => {\n",
              "          let quickchartButtonEl =\n",
              "            document.querySelector('#df-56d6cdf3-3a78-4b56-ac84-d9089fc71722 button');\n",
              "          quickchartButtonEl.style.display =\n",
              "            google.colab.kernel.accessAllowed ? 'block' : 'none';\n",
              "        })();\n",
              "      </script>\n",
              "    </div>\n",
              "    </div>\n",
              "  </div>\n"
            ],
            "application/vnd.google.colaboratory.intrinsic+json": {
              "type": "dataframe",
              "variable_name": "df",
              "summary": "{\n  \"name\": \"df\",\n  \"rows\": 3333,\n  \"fields\": [\n    {\n      \"column\": \"Account length\",\n      \"properties\": {\n        \"dtype\": \"number\",\n        \"std\": 39,\n        \"min\": 1,\n        \"max\": 243,\n        \"num_unique_values\": 212,\n        \"samples\": [\n          172,\n          189,\n          44\n        ],\n        \"semantic_type\": \"\",\n        \"description\": \"\"\n      }\n    },\n    {\n      \"column\": \"Area code\",\n      \"properties\": {\n        \"dtype\": \"number\",\n        \"std\": 42,\n        \"min\": 408,\n        \"max\": 510,\n        \"num_unique_values\": 3,\n        \"samples\": [\n          415,\n          408,\n          510\n        ],\n        \"semantic_type\": \"\",\n        \"description\": \"\"\n      }\n    },\n    {\n      \"column\": \"International plan\",\n      \"properties\": {\n        \"dtype\": \"number\",\n        \"std\": 0,\n        \"min\": 0,\n        \"max\": 1,\n        \"num_unique_values\": 2,\n        \"samples\": [\n          1,\n          0\n        ],\n        \"semantic_type\": \"\",\n        \"description\": \"\"\n      }\n    },\n    {\n      \"column\": \"Voice mail plan\",\n      \"properties\": {\n        \"dtype\": \"number\",\n        \"std\": 0,\n        \"min\": 0,\n        \"max\": 1,\n        \"num_unique_values\": 2,\n        \"samples\": [\n          0,\n          1\n        ],\n        \"semantic_type\": \"\",\n        \"description\": \"\"\n      }\n    },\n    {\n      \"column\": \"Number vmail messages\",\n      \"properties\": {\n        \"dtype\": \"number\",\n        \"std\": 13,\n        \"min\": 0,\n        \"max\": 51,\n        \"num_unique_values\": 46,\n        \"samples\": [\n          44,\n          48\n        ],\n        \"semantic_type\": \"\",\n        \"description\": \"\"\n      }\n    },\n    {\n      \"column\": \"Total day minutes\",\n      \"properties\": {\n        \"dtype\": \"number\",\n        \"std\": 54.46738920237142,\n        \"min\": 0.0,\n        \"max\": 350.8,\n        \"num_unique_values\": 1667,\n        \"samples\": [\n          87.6,\n          115.7\n        ],\n        \"semantic_type\": \"\",\n        \"description\": \"\"\n      }\n    },\n    {\n      \"column\": \"Total day calls\",\n      \"properties\": {\n        \"dtype\": \"number\",\n        \"std\": 20,\n        \"min\": 0,\n        \"max\": 165,\n        \"num_unique_values\": 119,\n        \"samples\": [\n          125,\n          59\n        ],\n        \"semantic_type\": \"\",\n        \"description\": \"\"\n      }\n    },\n    {\n      \"column\": \"Total day charge\",\n      \"properties\": {\n        \"dtype\": \"number\",\n        \"std\": 9.259434553930507,\n        \"min\": 0.0,\n        \"max\": 59.64,\n        \"num_unique_values\": 1667,\n        \"samples\": [\n          14.89,\n          19.67\n        ],\n        \"semantic_type\": \"\",\n        \"description\": \"\"\n      }\n    },\n    {\n      \"column\": \"Total eve minutes\",\n      \"properties\": {\n        \"dtype\": \"number\",\n        \"std\": 50.71384442581193,\n        \"min\": 0.0,\n        \"max\": 363.7,\n        \"num_unique_values\": 1611,\n        \"samples\": [\n          215.1,\n          219.1\n        ],\n        \"semantic_type\": \"\",\n        \"description\": \"\"\n      }\n    },\n    {\n      \"column\": \"Total eve calls\",\n      \"properties\": {\n        \"dtype\": \"number\",\n        \"std\": 19,\n        \"min\": 0,\n        \"max\": 170,\n        \"num_unique_values\": 123,\n        \"samples\": [\n          93,\n          142\n        ],\n        \"semantic_type\": \"\",\n        \"description\": \"\"\n      }\n    },\n    {\n      \"column\": \"Total eve charge\",\n      \"properties\": {\n        \"dtype\": \"number\",\n        \"std\": 4.310667643110339,\n        \"min\": 0.0,\n        \"max\": 30.91,\n        \"num_unique_values\": 1440,\n        \"samples\": [\n          24.85,\n          14.19\n        ],\n        \"semantic_type\": \"\",\n        \"description\": \"\"\n      }\n    },\n    {\n      \"column\": \"Total night minutes\",\n      \"properties\": {\n        \"dtype\": \"number\",\n        \"std\": 50.5738470136583,\n        \"min\": 23.2,\n        \"max\": 395.0,\n        \"num_unique_values\": 1591,\n        \"samples\": [\n          311.1,\n          179.1\n        ],\n        \"semantic_type\": \"\",\n        \"description\": \"\"\n      }\n    },\n    {\n      \"column\": \"Total night calls\",\n      \"properties\": {\n        \"dtype\": \"number\",\n        \"std\": 19,\n        \"min\": 33,\n        \"max\": 175,\n        \"num_unique_values\": 120,\n        \"samples\": [\n          60,\n          73\n        ],\n        \"semantic_type\": \"\",\n        \"description\": \"\"\n      }\n    },\n    {\n      \"column\": \"Total night charge\",\n      \"properties\": {\n        \"dtype\": \"number\",\n        \"std\": 2.2758728376600317,\n        \"min\": 1.04,\n        \"max\": 17.77,\n        \"num_unique_values\": 933,\n        \"samples\": [\n          6.2,\n          6.86\n        ],\n        \"semantic_type\": \"\",\n        \"description\": \"\"\n      }\n    },\n    {\n      \"column\": \"Total intl minutes\",\n      \"properties\": {\n        \"dtype\": \"number\",\n        \"std\": 2.7918395484084204,\n        \"min\": 0.0,\n        \"max\": 20.0,\n        \"num_unique_values\": 162,\n        \"samples\": [\n          16.6,\n          14.8\n        ],\n        \"semantic_type\": \"\",\n        \"description\": \"\"\n      }\n    },\n    {\n      \"column\": \"Total intl calls\",\n      \"properties\": {\n        \"dtype\": \"number\",\n        \"std\": 2,\n        \"min\": 0,\n        \"max\": 20,\n        \"num_unique_values\": 21,\n        \"samples\": [\n          3,\n          14\n        ],\n        \"semantic_type\": \"\",\n        \"description\": \"\"\n      }\n    },\n    {\n      \"column\": \"Total intl charge\",\n      \"properties\": {\n        \"dtype\": \"number\",\n        \"std\": 0.7537726126630453,\n        \"min\": 0.0,\n        \"max\": 5.4,\n        \"num_unique_values\": 162,\n        \"samples\": [\n          4.48,\n          4.0\n        ],\n        \"semantic_type\": \"\",\n        \"description\": \"\"\n      }\n    },\n    {\n      \"column\": \"Customer service calls\",\n      \"properties\": {\n        \"dtype\": \"number\",\n        \"std\": 1,\n        \"min\": 0,\n        \"max\": 9,\n        \"num_unique_values\": 10,\n        \"samples\": [\n          6,\n          0\n        ],\n        \"semantic_type\": \"\",\n        \"description\": \"\"\n      }\n    },\n    {\n      \"column\": \"Churn\",\n      \"properties\": {\n        \"dtype\": \"number\",\n        \"std\": 0,\n        \"min\": 0,\n        \"max\": 1,\n        \"num_unique_values\": 2,\n        \"samples\": [\n          1,\n          0\n        ],\n        \"semantic_type\": \"\",\n        \"description\": \"\"\n      }\n    }\n  ]\n}"
            }
          },
          "metadata": {},
          "execution_count": 35
        }
      ]
    },
    {
      "cell_type": "markdown",
      "source": [
        "Создайте матрицу объект-признак X и вектор с целевой переменной (Churn) y."
      ],
      "metadata": {
        "id": "6_y9azfEzBYd"
      }
    },
    {
      "cell_type": "code",
      "source": [
        "X = df.drop(\"Churn\", axis=1)\n",
        "y = df['Churn'].copy()"
      ],
      "metadata": {
        "id": "Nd0nCW4eypLE"
      },
      "execution_count": 36,
      "outputs": []
    },
    {
      "cell_type": "markdown",
      "source": [
        "### Вопрос\n",
        "\n",
        "Проверьте баланс классов. Является ли выборка сбалансированной?"
      ],
      "metadata": {
        "id": "NEvkoGWw1hFL"
      }
    },
    {
      "cell_type": "code",
      "source": [
        "y.value_counts()"
      ],
      "metadata": {
        "id": "RpPcEOAm1keZ",
        "outputId": "440c4352-d3a1-4cc1-852c-e0a79d1b49b6",
        "colab": {
          "base_uri": "https://localhost:8080/",
          "height": 178
        }
      },
      "execution_count": 37,
      "outputs": [
        {
          "output_type": "execute_result",
          "data": {
            "text/plain": [
              "Churn\n",
              "0    2850\n",
              "1     483\n",
              "Name: count, dtype: int64"
            ],
            "text/html": [
              "<div>\n",
              "<style scoped>\n",
              "    .dataframe tbody tr th:only-of-type {\n",
              "        vertical-align: middle;\n",
              "    }\n",
              "\n",
              "    .dataframe tbody tr th {\n",
              "        vertical-align: top;\n",
              "    }\n",
              "\n",
              "    .dataframe thead th {\n",
              "        text-align: right;\n",
              "    }\n",
              "</style>\n",
              "<table border=\"1\" class=\"dataframe\">\n",
              "  <thead>\n",
              "    <tr style=\"text-align: right;\">\n",
              "      <th></th>\n",
              "      <th>count</th>\n",
              "    </tr>\n",
              "    <tr>\n",
              "      <th>Churn</th>\n",
              "      <th></th>\n",
              "    </tr>\n",
              "  </thead>\n",
              "  <tbody>\n",
              "    <tr>\n",
              "      <th>0</th>\n",
              "      <td>2850</td>\n",
              "    </tr>\n",
              "    <tr>\n",
              "      <th>1</th>\n",
              "      <td>483</td>\n",
              "    </tr>\n",
              "  </tbody>\n",
              "</table>\n",
              "</div><br><label><b>dtype:</b> int64</label>"
            ]
          },
          "metadata": {},
          "execution_count": 37
        }
      ]
    },
    {
      "cell_type": "markdown",
      "source": [
        "По кросс-валидации с тремя фолдами и метрикой ROC-AUC (scoring='roc_auc') обучите:\n",
        "\n",
        "1) Логистическую регрессию\n",
        "\n",
        "2) Метод опорных векторов (с kernel='linear')\n",
        "\n",
        "Выведите на экран среднее качество моделей на кросс-валидации.\n",
        "\n",
        "При объявлении SVC не забудьте указать в гиперпараметрах probability = True (так как метод изначально не предсказывает вероятности классов, а они нам нужны для вычисления ROC-AUC)."
      ],
      "metadata": {
        "id": "253CDINX1TmR"
      }
    },
    {
      "cell_type": "code",
      "source": [
        "from sklearn.linear_model import LogisticRegression\n",
        "from sklearn.svm import SVC\n",
        "from sklearn.model_selection import cross_val_score\n",
        "\n",
        "model_log_reg = LogisticRegression(max_iter=10000)\n",
        "model_svc = SVC(kernel='linear', probability=True)"
      ],
      "metadata": {
        "id": "GsQW48lf1SxJ"
      },
      "execution_count": 43,
      "outputs": []
    },
    {
      "cell_type": "code",
      "source": [
        "log_reg_roc_auc_mean = cross_val_score(\n",
        "    estimator = model_log_reg,\n",
        "    X = X,\n",
        "    y = y,\n",
        "    cv = 3,\n",
        "    scoring = 'roc_auc'\n",
        ").mean()"
      ],
      "metadata": {
        "id": "pe0QRCZjOfOo",
        "outputId": "e15376ad-a39a-4ca9-e5d6-3a41a89aafd4",
        "colab": {
          "base_uri": "https://localhost:8080/"
        }
      },
      "execution_count": 45,
      "outputs": [
        {
          "output_type": "stream",
          "name": "stderr",
          "text": [
            "/usr/local/lib/python3.11/dist-packages/daal4py/sklearn/linear_model/logistic_path.py:628: ConvergenceWarning: lbfgs failed to converge (status=1):\n",
            "STOP: TOTAL NO. OF ITERATIONS REACHED LIMIT.\n",
            "\n",
            "Increase the number of iterations (max_iter) or scale the data as shown in:\n",
            "    https://scikit-learn.org/stable/modules/preprocessing.html\n",
            "Please also refer to the documentation for alternative solver options:\n",
            "    https://scikit-learn.org/stable/modules/linear_model.html#logistic-regression\n",
            "  n_iter_i = _check_optimize_result(\n",
            "/usr/local/lib/python3.11/dist-packages/daal4py/sklearn/linear_model/logistic_path.py:628: ConvergenceWarning: lbfgs failed to converge (status=1):\n",
            "STOP: TOTAL NO. OF ITERATIONS REACHED LIMIT.\n",
            "\n",
            "Increase the number of iterations (max_iter) or scale the data as shown in:\n",
            "    https://scikit-learn.org/stable/modules/preprocessing.html\n",
            "Please also refer to the documentation for alternative solver options:\n",
            "    https://scikit-learn.org/stable/modules/linear_model.html#logistic-regression\n",
            "  n_iter_i = _check_optimize_result(\n",
            "/usr/local/lib/python3.11/dist-packages/daal4py/sklearn/linear_model/logistic_path.py:628: ConvergenceWarning: lbfgs failed to converge (status=1):\n",
            "STOP: TOTAL NO. OF ITERATIONS REACHED LIMIT.\n",
            "\n",
            "Increase the number of iterations (max_iter) or scale the data as shown in:\n",
            "    https://scikit-learn.org/stable/modules/preprocessing.html\n",
            "Please also refer to the documentation for alternative solver options:\n",
            "    https://scikit-learn.org/stable/modules/linear_model.html#logistic-regression\n",
            "  n_iter_i = _check_optimize_result(\n"
          ]
        }
      ]
    },
    {
      "cell_type": "code",
      "source": [
        "log_reg_roc_auc_mean"
      ],
      "metadata": {
        "id": "GNSAyhchPkGf",
        "outputId": "bf175484-799f-4211-8010-cc8c77f58aa3",
        "colab": {
          "base_uri": "https://localhost:8080/"
        }
      },
      "execution_count": 46,
      "outputs": [
        {
          "output_type": "execute_result",
          "data": {
            "text/plain": [
              "np.float64(0.8111125640187424)"
            ]
          },
          "metadata": {},
          "execution_count": 46
        }
      ]
    },
    {
      "cell_type": "code",
      "source": [
        "svc_roc_auc_mean = cross_val_score(\n",
        "    estimator = model_svc,\n",
        "    X = X,\n",
        "    y = y,\n",
        "    cv = 3,\n",
        "    scoring = 'roc_auc'\n",
        ").mean()"
      ],
      "metadata": {
        "id": "sVSoByLnPd1U",
        "outputId": "99f3d706-7a6b-4928-f972-3ae4029751cb",
        "colab": {
          "base_uri": "https://localhost:8080/"
        }
      },
      "execution_count": null,
      "outputs": [
        {
          "output_type": "stream",
          "name": "stderr",
          "text": [
            "/usr/local/lib/python3.11/dist-packages/sklearn/calibration.py:333: UserWarning: The `cv='prefit'` option is deprecated in 1.6 and will be removed in 1.8. You can use CalibratedClassifierCV(FrozenEstimator(estimator)) instead.\n",
            "  warnings.warn(\n",
            "/usr/local/lib/python3.11/dist-packages/sklearn/calibration.py:333: UserWarning: The `cv='prefit'` option is deprecated in 1.6 and will be removed in 1.8. You can use CalibratedClassifierCV(FrozenEstimator(estimator)) instead.\n",
            "  warnings.warn(\n"
          ]
        }
      ]
    },
    {
      "cell_type": "code",
      "source": [
        "svc_roc_auc_mean"
      ],
      "metadata": {
        "id": "FEWaQpeWPpWf"
      },
      "execution_count": null,
      "outputs": []
    },
    {
      "cell_type": "markdown",
      "source": [
        "Теперь обучите решающее дерево с параметрами по умолчанию по кросс-валидации с тремя фолдами и той же метрикой.\n",
        "\n",
        "ВАЖНО! У решающего дерева для воспроизводимости результатов фиксируйте random_state = RANDOM_STATE"
      ],
      "metadata": {
        "id": "mVgXsdO02iVG"
      }
    },
    {
      "cell_type": "code",
      "source": [
        "from sklearn.tree import DecisionTreeClassifier\n",
        "\n",
        "tree = DecisionTreeClassifier(random_state=RANDOM_STATE)"
      ],
      "metadata": {
        "id": "yc822SQa2Zsc"
      },
      "execution_count": null,
      "outputs": []
    },
    {
      "cell_type": "code",
      "source": [
        "tree_roc_auc = cross_val_score(\n",
        "    estimator = tree,\n",
        "    X = X,\n",
        "    y = y,\n",
        "    cv = 3,\n",
        "    scoring = 'roc_auc'\n",
        ")"
      ],
      "metadata": {
        "id": "QtuKtdmjQkQo"
      },
      "execution_count": null,
      "outputs": []
    },
    {
      "cell_type": "code",
      "source": [
        "tree_roc_auc.mean()"
      ],
      "metadata": {
        "id": "NmglU2V1QxiX"
      },
      "execution_count": null,
      "outputs": []
    },
    {
      "cell_type": "markdown",
      "source": [
        "### Вопрос\n",
        "\n",
        "Какой из трех алгоритмов показал наилучшее качество на кросс-валидации?"
      ],
      "metadata": {
        "id": "3cZipDFTYXs-"
      }
    },
    {
      "cell_type": "markdown",
      "source": [
        "Ваша цель - максимально улучшить модели. Для этого:\n",
        "\n",
        "1) у линейных моделей подберите гиперпараметр С (переберите 20 значений C в диапазоне от 0.1 до 10 с равным шагом).\n",
        "\n",
        "2) у решающего дерева подберите max_depth (переберите глубину от 1 до 10 с шагом 1) и criterion - \"gini\" или \"entropy\".\n",
        "\n",
        "Для подбора параметров используйте GridSearchCV с тремя фолдами и метрикой roc-auc или обычные циклы.\n",
        "\n",
        "Подбор параметров осуществляется только по тренировочным данным!"
      ],
      "metadata": {
        "id": "Bof-nFO-3pp7"
      }
    },
    {
      "cell_type": "markdown",
      "source": [
        "При подборе гиперпараметров по кросс-валидации для дальнейшей корректной оценки качества модели нужна отдельная выборка. Давайте сразу действовать правильно:\n",
        "\n",
        "1) сначала разбиваем (как и раньше) данные на тренировочную и тестовую части\n",
        "![image.png](data:image/png;base64,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)"
      ],
      "metadata": {
        "id": "XQTz9L4IQJe0"
      }
    },
    {
      "cell_type": "markdown",
      "source": [
        "2) затем по тренировочной части при помощи GridSearchCV подбираем оптимальные значения гиперпараметров\n",
        "\n",
        "3) наконец, делаем предсказание модели с оптимальными гиперпараметрами на тестовых данных и уже по ним оцениваем итоговую метрику.\n",
        "\n",
        "Сложно, зато правильно!"
      ],
      "metadata": {
        "id": "YkKgj_xdQcm9"
      }
    },
    {
      "cell_type": "markdown",
      "source": [
        "Первую модель обучим для примера. Дальше вы сами."
      ],
      "metadata": {
        "id": "fOpaM-hq44uW"
      }
    },
    {
      "cell_type": "code",
      "source": [
        "from sklearn.model_selection import train_test_split\n",
        "\n",
        "Xtrain, Xtest, ytrain, ytest = train_test_split(X, y, test_size=0.3, random_state=RANDOM_STATE)"
      ],
      "metadata": {
        "id": "iQaQGXpmQ1dI"
      },
      "execution_count": null,
      "outputs": []
    },
    {
      "cell_type": "code",
      "source": [
        "from sklearn.model_selection import GridSearchCV\n",
        "\n",
        "params = {'C' : np.linspace(0.1, 10.01, 20)}\n",
        "\n",
        "gs_log_reg = GridSearchCV(LogisticRegression(), params, cv=3, scoring='roc_auc')\n",
        "\n",
        "gs_log_reg.fit(Xtrain, ytrain)\n",
        "\n",
        "gs_log_reg.best_score_, gs_log_reg.best_estimator_"
      ],
      "metadata": {
        "id": "hk9rxc993bRu"
      },
      "execution_count": null,
      "outputs": []
    },
    {
      "cell_type": "code",
      "source": [
        "from sklearn.metrics import roc_auc_score\n",
        "\n",
        "lr = gs_log_reg.best_estimator_\n",
        "\n",
        "pred_lr = lr.predict_proba(Xtest)[:,1]\n",
        "print(roc_auc_score(ytest, pred_lr))"
      ],
      "metadata": {
        "id": "gdpy_r1k4qNs"
      },
      "execution_count": null,
      "outputs": []
    },
    {
      "cell_type": "code",
      "source": [
        "params = {\"\"  }\n",
        "gs_tree = GridSearchCV()"
      ],
      "metadata": {
        "id": "EzZ8K1eI5FLU"
      },
      "execution_count": null,
      "outputs": []
    },
    {
      "cell_type": "markdown",
      "source": [
        "### Вопрос\n",
        "\n",
        "Чему равно качество решающего дерева с подобранными гиперпараметрами, посчитанное на тестовой выборке?\n",
        "\n",
        "Ответ округлите до сотых."
      ],
      "metadata": {
        "id": "YkX2K2-9Z2Xf"
      }
    },
    {
      "cell_type": "markdown",
      "source": [
        "Какая модель справилась с решением задачи лучше всего по метрике roc_auc?"
      ],
      "metadata": {
        "id": "LJdQGP5B6UuT"
      }
    },
    {
      "cell_type": "markdown",
      "source": [
        "Нарисуйте roc-кривую для наилучшей модели."
      ],
      "metadata": {
        "id": "9QqqeHyP6Y4o"
      }
    },
    {
      "cell_type": "code",
      "source": [
        "from sklearn.metrics import roc_curve\n",
        "from matplotlib import pyplot as plt\n",
        "\n",
        "# your code here"
      ],
      "metadata": {
        "id": "xzrjnbQB6YMA"
      },
      "execution_count": null,
      "outputs": []
    },
    {
      "cell_type": "markdown",
      "source": [
        "Сравните между собой две лучшие модели."
      ],
      "metadata": {
        "id": "2mkfXjsENXB0"
      }
    },
    {
      "cell_type": "markdown",
      "source": [
        "### Вопрос\n",
        "\n",
        "Насколько сильно отличается качество предсказания на тестовых данных?\n",
        "(вычислите разность значений roc-auc)"
      ],
      "metadata": {
        "id": "mKaWSPa_6vvk"
      }
    },
    {
      "cell_type": "code",
      "source": [
        "# your code here"
      ],
      "metadata": {
        "id": "cc0q1_XL7QT0"
      },
      "execution_count": null,
      "outputs": []
    },
    {
      "cell_type": "markdown",
      "source": [
        "Постройте гистограммы важности признаков (для линейных моделей берите модуль значений весов) для каждой из этих моделей. Сравните между собой списки из трех самых важных признаков. Совпадают ли они?"
      ],
      "metadata": {
        "id": "leygLIY2aHJK"
      }
    },
    {
      "cell_type": "markdown",
      "source": [
        "### Вопрос\n",
        "\n",
        "Какой признак наиболее важен для решающего дерева?"
      ],
      "metadata": {
        "id": "JAzIr89MaODq"
      }
    },
    {
      "cell_type": "code",
      "source": [
        "# your code here"
      ],
      "metadata": {
        "id": "lz_y6FjJ7Kol"
      },
      "execution_count": null,
      "outputs": []
    },
    {
      "cell_type": "markdown",
      "source": [
        "Сделайте выводы (для себя)\n",
        "\n",
        "1) Являются ли данные сбалансированными? Что это означает?\n",
        "\n",
        "2) Какая модель после подбора гиперпараметров лучше всего решает задачу с точки зрения метрики roc-auc?\n",
        "\n",
        "3) Одинаковые ли признаки важны для работы двух наилучших моделей? Как вы думаете, почему так?"
      ],
      "metadata": {
        "id": "beRXM0lT8MUp"
      }
    }
  ]
}